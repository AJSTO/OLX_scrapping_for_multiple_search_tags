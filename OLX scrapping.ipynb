{
 "cells": [
  {
   "cell_type": "markdown",
   "id": "4e827e46-d3cd-444e-a7a0-8241c2f7c2de",
   "metadata": {
    "pycharm": {
     "name": "#%% md\n"
    }
   },
   "source": [
    "OLX SCRIPT\n",
    "Made for searching in a category from given link. Need to give a link to category we are interested and also list of searching tags."
   ]
  },
  {
   "cell_type": "markdown",
   "id": "d564d1e0-e714-4aa7-930b-ade8658e3446",
   "metadata": {
    "pycharm": {
     "name": "#%% md\n"
    }
   },
   "source": [
    "Importing all libraries we need."
   ]
  },
  {
   "cell_type": "code",
   "execution_count": 1,
   "id": "b6818be5-ef71-45b1-b987-539b9374f1e7",
   "metadata": {
    "pycharm": {
     "name": "#%%\n"
    }
   },
   "outputs": [],
   "source": [
    "from selenium import webdriver\n",
    "#from selenium.webdriver.support.ui import WebDriverWait \n",
    "from selenium.webdriver.common.by import By\n",
    "from selenium.webdriver.common.keys import Keys\n",
    "#from selenium.webdriver.support import expected_conditions as EC \n",
    "import pandas as pd\n",
    "import time # may be deleted if webdriverwait will works\n",
    "import re"
   ]
  },
  {
   "cell_type": "markdown",
   "id": "e24aee8f-8cfa-4df7-98e1-c13934874a7a",
   "metadata": {
    "pycharm": {
     "name": "#%% md\n"
    }
   },
   "source": [
    "Type here a searching tags, type of webdriver and also a link to olx category."
   ]
  },
  {
   "cell_type": "code",
   "execution_count": 2,
   "id": "cd790eef-6e96-431d-83a3-063f82a9b8d8",
   "metadata": {
    "pycharm": {
     "name": "#%%\n"
    }
   },
   "outputs": [
    {
     "name": "stderr",
     "output_type": "stream",
     "text": [
      "/var/folders/bt/zccdz7cx3vl6gc9h66fsbzmw0000gn/T/ipykernel_6261/2622627856.py:7: DeprecationWarning: executable_path has been deprecated, please pass in a Service object\n",
      "  driver = webdriver.Chrome('PATH/TO/LOCATION/chromedriver')\n"
     ]
    }
   ],
   "source": [
    "# Cointainer for collected books with price and url on OLX.\n",
    "PRODUCTS = []\n",
    "# Searching tags.\n",
    "SEARCH_TAGS = ['asimov',]\n",
    "\n",
    "# Getting chrome webdriver.\n",
    "driver = webdriver.Chrome('/Users/adamstolarczyk/Downloads/chromedriver')\n",
    "# Link for OLX category to scrap.\n",
    "driver.get('https://www.olx.pl/d/muzyka-edukacja/ksiazki/literatura/') \n",
    "time.sleep(5) # Sleeping TO BE DEVELOPED."
   ]
  },
  {
   "cell_type": "markdown",
   "id": "f39c3391-233d-4cc6-be46-c892176ac8e1",
   "metadata": {
    "pycharm": {
     "name": "#%% md\n"
    }
   },
   "source": [
    "Clicking modules for accepting a cookies and choosing offers with courier options"
   ]
  },
  {
   "cell_type": "code",
   "execution_count": 3,
   "id": "aeeefde7-ea32-442b-ac3f-d753d2951c5b",
   "metadata": {
    "pycharm": {
     "name": "#%%\n"
    }
   },
   "outputs": [],
   "source": [
    "# Accepting cookies.\n",
    "try:\n",
    "    driver.find_element(By.XPATH, '//button[text()=\"Akceptuję\"]').click()\n",
    "except:\n",
    "    pass\n",
    "\n",
    "driver.find_element(By.ID, 'courier').click() # Click checkbox for courier."
   ]
  },
  {
   "cell_type": "markdown",
   "id": "34df8c41-7de6-45c5-85d2-dc73e4083ecc",
   "metadata": {
    "pycharm": {
     "name": "#%% md\n"
    }
   },
   "source": [
    "Cell with functions."
   ]
  },
  {
   "cell_type": "code",
   "execution_count": 4,
   "id": "f897df0e-541f-43b9-b0f3-ec33404e2664",
   "metadata": {
    "pycharm": {
     "name": "#%%\n"
    }
   },
   "outputs": [],
   "source": [
    "# Function for scrapping a tag.\n",
    "def scrapping_tag(tag):\n",
    "    time.sleep(10) # Sleeping TO BE DEVELOPED.\n",
    "    #WebDriverWait(driver, timeout).until(EC.visibility_of_element_located((By.CLASS_NAME,'css-19ucd76')))\n",
    "    headlines = driver.find_elements(By.CLASS_NAME,'css-19ucd76') # Getting all headlines with links.\n",
    "    for element in headlines:\n",
    "        if re.search(r'{}'.format(tag),element.text, re.IGNORECASE) != None: # Checking if there is a tag in headline.\n",
    "            stripped_text = element.text.removeprefix('WYRÓŻNIONE\\n').split('\\n')\n",
    "            PRODUCTS.append({'nazwa' : stripped_text[0], \n",
    "                          'cena' : stripped_text[1], \n",
    "                          'url' : element.find_element(By.TAG_NAME, 'a').get_attribute('href')})\n",
    "    try:\n",
    "        #WebDriverWait(driver, timeout).until(EC.visibility_of_element_located((By.XPATH, '//*[@data-testid=\"pagination-forward\"]')))\n",
    "        time.sleep(10) # Sleeping TO BE DEVELOPED.\n",
    "        driver.find_element(By.XPATH, '//*[@data-testid=\"pagination-forward\"]').click() # Next page.\n",
    "        return scrapping_tag(tag)\n",
    "    except:\n",
    "        pass\n",
    "# Dealing with all tags.\n",
    "def search_tags(SEARCH_TAGS):\n",
    "    inputTag = driver.find_element(By.ID, \"search\") # Finding searching bar.\n",
    "    for tag in SEARCH_TAGS:\n",
    "        inputTag.clear() # Clearing searching bar.\n",
    "        inputTag.send_keys('{}'.format(tag)) # Giving actual tag to find.\n",
    "        inputTag.send_keys(Keys.ENTER) # Clicking ENTER.\n",
    "        scrapping_tag(tag) # Running fun for scrapping pages.\n",
    "        inputTag.clear() # Clearing searching bar."
   ]
  },
  {
   "cell_type": "markdown",
   "id": "aec06eff-1a04-41b3-8f84-aa3dd5926f99",
   "metadata": {
    "pycharm": {
     "name": "#%% md\n"
    }
   },
   "source": [
    "Running the functions."
   ]
  },
  {
   "cell_type": "code",
   "execution_count": 5,
   "id": "ae4769a8-7c96-4b74-9ce2-8357f8003be1",
   "metadata": {
    "tags": [],
    "pycharm": {
     "name": "#%%\n"
    }
   },
   "outputs": [
    {
     "data": {
      "text/html": [
       "<div>\n",
       "<style scoped>\n",
       "    .dataframe tbody tr th:only-of-type {\n",
       "        vertical-align: middle;\n",
       "    }\n",
       "\n",
       "    .dataframe tbody tr th {\n",
       "        vertical-align: top;\n",
       "    }\n",
       "\n",
       "    .dataframe thead th {\n",
       "        text-align: right;\n",
       "    }\n",
       "</style>\n",
       "<table border=\"1\" class=\"dataframe\">\n",
       "  <thead>\n",
       "    <tr style=\"text-align: right;\">\n",
       "      <th></th>\n",
       "      <th>nazwa</th>\n",
       "      <th>cena</th>\n",
       "      <th>url</th>\n",
       "    </tr>\n",
       "  </thead>\n",
       "  <tbody>\n",
       "    <tr>\n",
       "      <th>0</th>\n",
       "      <td>Fundacja i Imperium - Asimov</td>\n",
       "      <td>10 zł</td>\n",
       "      <td>https://www.olx.pl/d/oferta/fundacja-i-imperiu...</td>\n",
       "    </tr>\n",
       "    <tr>\n",
       "      <th>1</th>\n",
       "      <td>The Caves of Steel, Isaac Asimov</td>\n",
       "      <td>25 zł</td>\n",
       "      <td>https://www.olx.pl/d/oferta/the-caves-of-steel...</td>\n",
       "    </tr>\n",
       "    <tr>\n",
       "      <th>2</th>\n",
       "      <td>Isaac Asimov Imperium Galaktyczne Gwiazdy Prąd...</td>\n",
       "      <td>60 zł</td>\n",
       "      <td>https://www.olx.pl/d/oferta/isaac-asimov-imper...</td>\n",
       "    </tr>\n",
       "    <tr>\n",
       "      <th>3</th>\n",
       "      <td>Isaac Asimov - Złoto i magia [ZAREZERWOWANA]</td>\n",
       "      <td>12 zł</td>\n",
       "      <td>https://www.olx.pl/d/oferta/isaac-asimov-zloto...</td>\n",
       "    </tr>\n",
       "    <tr>\n",
       "      <th>4</th>\n",
       "      <td>\"Azazel\" Isaac Asimov</td>\n",
       "      <td>20 zł</td>\n",
       "      <td>https://www.olx.pl/d/oferta/azazel-isaac-asimo...</td>\n",
       "    </tr>\n",
       "    <tr>\n",
       "      <th>...</th>\n",
       "      <td>...</td>\n",
       "      <td>...</td>\n",
       "      <td>...</td>\n",
       "    </tr>\n",
       "    <tr>\n",
       "      <th>56</th>\n",
       "      <td>Druga Fundacja Isaac Asimov</td>\n",
       "      <td>7 zł</td>\n",
       "      <td>https://www.olx.pl/d/oferta/druga-fundacja-isa...</td>\n",
       "    </tr>\n",
       "    <tr>\n",
       "      <th>57</th>\n",
       "      <td>Isaac Asimov. Pozytywny detektyw</td>\n",
       "      <td>15 zł</td>\n",
       "      <td>https://www.olx.pl/d/oferta/isaac-asimov-pozyt...</td>\n",
       "    </tr>\n",
       "    <tr>\n",
       "      <th>58</th>\n",
       "      <td>Koniec wieczności Isaac Asimov</td>\n",
       "      <td>30 zł</td>\n",
       "      <td>https://www.olx.pl/d/oferta/koniec-wiecznosci-...</td>\n",
       "    </tr>\n",
       "    <tr>\n",
       "      <th>59</th>\n",
       "      <td>The Gods Themselves. Isaac Asimov. Jak z księg...</td>\n",
       "      <td>20 zł</td>\n",
       "      <td>https://www.olx.pl/d/oferta/the-gods-themselve...</td>\n",
       "    </tr>\n",
       "    <tr>\n",
       "      <th>60</th>\n",
       "      <td>Książka \"Powiew Śmierci\" Isaac Asimov z 1971 r...</td>\n",
       "      <td>5 zł</td>\n",
       "      <td>https://www.olx.pl/d/oferta/ksiazka-powiew-smi...</td>\n",
       "    </tr>\n",
       "  </tbody>\n",
       "</table>\n",
       "<p>61 rows × 3 columns</p>\n",
       "</div>"
      ],
      "text/plain": [
       "                                                nazwa   cena  \\\n",
       "0                        Fundacja i Imperium - Asimov  10 zł   \n",
       "1                    The Caves of Steel, Isaac Asimov  25 zł   \n",
       "2   Isaac Asimov Imperium Galaktyczne Gwiazdy Prąd...  60 zł   \n",
       "3        Isaac Asimov - Złoto i magia [ZAREZERWOWANA]  12 zł   \n",
       "4                               \"Azazel\" Isaac Asimov  20 zł   \n",
       "..                                                ...    ...   \n",
       "56                        Druga Fundacja Isaac Asimov   7 zł   \n",
       "57                   Isaac Asimov. Pozytywny detektyw  15 zł   \n",
       "58                     Koniec wieczności Isaac Asimov  30 zł   \n",
       "59  The Gods Themselves. Isaac Asimov. Jak z księg...  20 zł   \n",
       "60  Książka \"Powiew Śmierci\" Isaac Asimov z 1971 r...   5 zł   \n",
       "\n",
       "                                                  url  \n",
       "0   https://www.olx.pl/d/oferta/fundacja-i-imperiu...  \n",
       "1   https://www.olx.pl/d/oferta/the-caves-of-steel...  \n",
       "2   https://www.olx.pl/d/oferta/isaac-asimov-imper...  \n",
       "3   https://www.olx.pl/d/oferta/isaac-asimov-zloto...  \n",
       "4   https://www.olx.pl/d/oferta/azazel-isaac-asimo...  \n",
       "..                                                ...  \n",
       "56  https://www.olx.pl/d/oferta/druga-fundacja-isa...  \n",
       "57  https://www.olx.pl/d/oferta/isaac-asimov-pozyt...  \n",
       "58  https://www.olx.pl/d/oferta/koniec-wiecznosci-...  \n",
       "59  https://www.olx.pl/d/oferta/the-gods-themselve...  \n",
       "60  https://www.olx.pl/d/oferta/ksiazka-powiew-smi...  \n",
       "\n",
       "[61 rows x 3 columns]"
      ]
     },
     "execution_count": 5,
     "metadata": {},
     "output_type": "execute_result"
    }
   ],
   "source": [
    "search_tags(SEARCH_TAGS) # Calling a function.\n",
    "products_df = pd.DataFrame(PRODUCTS)\n",
    "#books_df.to_excel(r'/Users/adamstolarczyk/Downloads/list_of_books.xlsx', index = False) # Extracting DataFrame to xlsx.\n",
    "driver.close()\n",
    "products_df"
   ]
  }
 ],
 "metadata": {
  "kernelspec": {
   "display_name": "Python 3 (ipykernel)",
   "language": "python",
   "name": "python3"
  },
  "language_info": {
   "codemirror_mode": {
    "name": "ipython",
    "version": 3
   },
   "file_extension": ".py",
   "mimetype": "text/x-python",
   "name": "python",
   "nbconvert_exporter": "python",
   "pygments_lexer": "ipython3",
   "version": "3.9.12"
  }
 },
 "nbformat": 4,
 "nbformat_minor": 5
}
